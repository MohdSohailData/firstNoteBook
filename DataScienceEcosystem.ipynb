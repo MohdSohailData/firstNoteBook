{
  "nbformat": 4,
  "nbformat_minor": 0,
  "metadata": {
    "colab": {
      "provenance": []
    },
    "kernelspec": {
      "name": "python3",
      "display_name": "Python 3"
    },
    "language_info": {
      "name": "python"
    }
  },
  "cells": [
    {
      "cell_type": "markdown",
      "source": [
        "# Data Science Tools and Ecosystem"
      ],
      "metadata": {
        "id": "87H_w8GfCFP4"
      }
    },
    {
      "cell_type": "markdown",
      "source": [
        "## In this Notebook, DataScience Tools are summarized"
      ],
      "metadata": {
        "id": "fEgxaHCqD_zG"
      }
    },
    {
      "cell_type": "markdown",
      "source": [
        "### Some of the popular languages that dataScientist use are\n",
        "1. Python\n",
        "2. Ruby\n",
        "3. Julia\n",
        "4. SQL\n",
        "5. JAVA\n",
        "6. Scala\n"
      ],
      "metadata": {
        "id": "3-zlTDeJEKkU"
      }
    },
    {
      "cell_type": "markdown",
      "source": [
        "### Some of the commonly used libraries used by datascientist include:\n",
        "1. NumPy\n",
        "2. Pandas\n",
        "3. Dplyr\n",
        "4. scikit-learn\n",
        "5. TensorFlow\n",
        "6. PyTorch\n",
        "7. Keras\n",
        "8. Matplotlib"
      ],
      "metadata": {
        "id": "o9j5eFIYE7Oy"
      }
    },
    {
      "cell_type": "markdown",
      "source": [
        "| Data Science Tool|\n",
        "|------------------|\n",
        "| Jupyter Notebook |\n",
        "| RStudio          |\n",
        "| Visual Studio Code|\n"
      ],
      "metadata": {
        "id": "zpFOY_aFGS4r"
      }
    },
    {
      "cell_type": "markdown",
      "source": [
        "### Below are a few examples of evaluating arithmetic expressions in Python"
      ],
      "metadata": {
        "id": "zeg21ARwHbXo"
      }
    },
    {
      "cell_type": "code",
      "source": [
        "# This a simple arithmetic expression to mutiply then add integers\n",
        "(3*4)+5"
      ],
      "metadata": {
        "colab": {
          "base_uri": "https://localhost:8080/"
        },
        "id": "1jMHLmQ3I6sB",
        "outputId": "bfed8737-511a-41b6-e0d3-d8d350cbdd01"
      },
      "execution_count": null,
      "outputs": [
        {
          "output_type": "execute_result",
          "data": {
            "text/plain": [
              "17"
            ]
          },
          "metadata": {},
          "execution_count": 1
        }
      ]
    },
    {
      "cell_type": "code",
      "source": [
        "# this will convert 200 mins to hours\n",
        "def convert_minutes_to_hours(minutes):\n",
        "    hours = minutes // 60\n",
        "    remaining_minutes = minutes % 60\n",
        "    return hours, remaining_minutes\n",
        "\n",
        "\n",
        "minutes = 200\n",
        "hours, remaining_minutes = convert_minutes_to_hours(minutes)\n",
        "print(f\"{minutes} minutes equal to {hours} hours and {remaining_minutes} minutes\")"
      ],
      "metadata": {
        "id": "WO_VlHyTJhkS",
        "colab": {
          "base_uri": "https://localhost:8080/"
        },
        "outputId": "a37c112d-3350-4eb9-b572-00a973374325"
      },
      "execution_count": 16,
      "outputs": [
        {
          "output_type": "stream",
          "name": "stdout",
          "text": [
            "200 minutes equal to 3 hours and 20 minutes\n"
          ]
        }
      ]
    },
    {
      "cell_type": "markdown",
      "source": [
        "**Objectives**:\n",
        "* Some of the popular languages that dataScientist use\n",
        "* Some of the commonly used libraries used by datascientist include\n",
        "* Below are a few examples of evaluating arithmetic expressions in Python\n"
      ],
      "metadata": {
        "id": "ng4qA_eFGf7s"
      }
    },
    {
      "cell_type": "markdown",
      "source": [
        "## Author: Lakshmi Holla, Niveditha Pandith\n",
        "Mohammad sohail"
      ],
      "metadata": {
        "id": "lEM-gBzYIUCM"
      }
    },
    {
      "cell_type": "code",
      "source": [],
      "metadata": {
        "id": "qnd4oDYfJSlJ"
      },
      "execution_count": null,
      "outputs": []
    }
  ]
}